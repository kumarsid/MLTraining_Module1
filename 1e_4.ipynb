{
 "cells": [
  {
   "cell_type": "markdown",
   "metadata": {},
   "source": [
    "# HSMA 1E - Python Programming Part 1\n",
    "## Exercise 4"
   ]
  },
  {
   "cell_type": "markdown",
   "metadata": {},
   "source": [
    "This workbook is intended to accompany Session 1E of the HSMA Training Programme - Python Programming Part 1.  You should be completing this when prompted by the trainer as Exercise 4 of the session.  You should read each task, and then try to write code to achieve what you are being asked in the code cell below each set of instructions.  Remember - check your code is working by running the code cell (CTRL + Enter whilst in the cell, or click the play button to the left of the cell)."
   ]
  },
  {
   "cell_type": "markdown",
   "metadata": {},
   "source": [
    "**Task 1** Write code that does the following :\n",
    "- Creates a new empty list of numbers\n",
    "- Asks the user to input 10 numbers.  For each number, the code checks to see if it is already in the list of numbers.  If it is, then the user is asked to input a different number, and will keep being asked until a valid number is entered (ie it won't count as one of the 10 numbers until a valid one has been entered).  If it isn't in the list, the number is added to the list of numbers. (*Think carefully about how to do this step.  There are different approaches, but break it down.  Think about how you would do it for a single number, then for 10 numbers.*)\n",
    "- Once the list of 10 numbers has been assembled, it is printed to the screen\n",
    "- The code then grabs the first half of the list, and prints that to the screen\n",
    "- The code then uses the second half of the list to create a new list comrprised of the numbers in this second half, but halved.  This new list is then printed.\n",
    "- The code then creates a new list comprised of numbers from the entire original list, but only those that are less than 100.  This list is then printed, along with a message informing the user how many numbers are less than 100.\n",
    "- Finally, the code creates a new dictionary named list_meta_data which contains the following keys : \"Total numbers\", \"Total low numbers\", \"First number added\" and \"Last number added\", and the corresponding values stored against each of these keys.  The dictionary is then printed."
   ]
  },
  {
   "cell_type": "code",
   "execution_count": null,
   "metadata": {},
   "outputs": [],
   "source": []
  }
 ],
 "metadata": {
  "kernelspec": {
   "display_name": "base",
   "language": "python",
   "name": "python3"
  },
  "language_info": {
   "codemirror_mode": {
    "name": "ipython",
    "version": 3
   },
   "file_extension": ".py",
   "mimetype": "text/x-python",
   "name": "python",
   "nbconvert_exporter": "python",
   "pygments_lexer": "ipython3",
   "version": "3.11.4"
  }
 },
 "nbformat": 4,
 "nbformat_minor": 2
}
