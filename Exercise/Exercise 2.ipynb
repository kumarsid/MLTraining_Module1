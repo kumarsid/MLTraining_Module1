{
 "cells": [
  {
   "cell_type": "markdown",
   "metadata": {},
   "source": [
    "Python Programming Module 1\n",
    "## Exercise 2"
   ]
  },
  {
   "cell_type": "markdown",
   "metadata": {},
   "source": [
    "You should read each task, and then try to write code to achieve what you are being asked in the code cell below each set of instructions.  Remember - check your code is working by running the code cell (CTRL + Enter whilst in the cell, or click the play button to the left of the cell)."
   ]
  },
  {
   "cell_type": "markdown",
   "metadata": {},
   "source": [
    "**Task 1**\n",
    "Write code that asks the user to input their monthly take home, housing costs, food costs and utility costs.  Then, calculate the remaining amount of their take home after housing, food and utility costs have been deducted, as well as the percentage of their monthly take home that is eaten up by housing costs.  Finally, print a message to the user telling them what their monthly remaining amount is after housing, food and utility costs, and what the percentage of their monthly take home that is housing costs, **rounded to 2 decimal places**.  You should include comments in your code to explain what everything does.\n",
    "\n",
    "Tip : to avoid going over the 80 character width line for print statements, you can separate components of a string using commas, to provide multiple inputs (within the brackets) to the print statement - this will create an *implicit line continuation*.  The output will come out on the same line, but a space will be added between each component.  Run the below cell to see how it works.  NOTE - if you are using fStrings, it works in the same way, but you must include the f ahead of any string that uses f-string functionality."
   ]
  },
  {
   "cell_type": "code",
   "execution_count": null,
   "metadata": {},
   "outputs": [],
   "source": []
  },
  {
   "cell_type": "markdown",
   "metadata": {},
   "source": [
    "**Task 2** Write code that asks the user to input a number, and the machine then prints out the times table (from 1 x up to and including 12 x the number) for whatever number is entered, using the message format \"*x* * *chosen_number* is *result*\" (e.g \"1 x 2 is 2\", \"2 x 2 is 4\" etc)"
   ]
  },
  {
   "cell_type": "code",
   "execution_count": null,
   "metadata": {},
   "outputs": [],
   "source": []
  },
  {
   "cell_type": "markdown",
   "metadata": {},
   "source": [
    "**Task 3** Write code that asks the user for a number to start from, and which then prints a countdown from that number (printing the number each time) until it reaches 0 - at which point, rather than printing 0, it prints \"Thunderbirds are go!\""
   ]
  },
  {
   "cell_type": "code",
   "execution_count": null,
   "metadata": {},
   "outputs": [],
   "source": []
  }
 ],
 "metadata": {
  "kernelspec": {
   "display_name": "base",
   "language": "python",
   "name": "python3"
  },
  "language_info": {
   "codemirror_mode": {
    "name": "ipython",
    "version": 3
   },
   "file_extension": ".py",
   "mimetype": "text/x-python",
   "name": "python",
   "nbconvert_exporter": "python",
   "pygments_lexer": "ipython3",
   "version": "3.11.4"
  }
 },
 "nbformat": 4,
 "nbformat_minor": 2
}
