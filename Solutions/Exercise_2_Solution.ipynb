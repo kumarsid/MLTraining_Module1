{
 "cells": [
  {
   "cell_type": "markdown",
   "metadata": {},
   "source": [
    "# Python Programming Part 1\n",
    "## Exercise 2 - SOLUTIONS"
   ]
  },
  {
   "cell_type": "markdown",
   "metadata": {},
   "source": [
    "**Task 1**\n",
    "Write code that asks the user to input their monthly take home, housing costs, food costs and utility costs.  Then, calculate the remaining amount of their take home after housing, food and utility costs have been deducted, as well as the percentage of their monthly take home that is eaten up by housing costs.  Finally, print a message to the user telling them what their monthly remaining amount is after housing, food and utility costs, and what the percentage of their monthly take home that is housing costs, **rounded to 2 decimal places**.  You should include comments in your code to explain what everything does.\n",
    "\n",
    "Tip : to avoid going over the 80 character width line for print statements, you can separate components of a string using commas, to provide multiple inputs (within the brackets) to the print statement - this will create an *implicit line continuation*.  The output will come out on the same line, but a space will be added between each component.  Run the below cell to see how it works.  NOTE - if you are using fStrings, it works in the same way, but you must include the f ahead of any string that uses f-string functionality."
   ]
  },
  {
   "cell_type": "code",
   "execution_count": null,
   "metadata": {},
   "outputs": [],
   "source": [
    "# Get inputs from user, cast as integers and store in variables\n",
    "monthly_take_home = int(input(\"What's your monthly take home income? : \"))\n",
    "housing_costs = int(input(\"What's your monthly housing cost (rent/mortgage)?\"))\n",
    "food_costs = int(input(\"How much do you spend on food per month?\"))\n",
    "utility_costs = int(input(\"How much do you spend on utilities per month?\"))\n",
    "\n",
    "# Calculate remaining money after housing, food and utility costs\n",
    "remaining = monthly_take_home - housing_costs - food_costs - utility_costs\n",
    "\n",
    "# Calculate the percentage of take home that housing costs represent\n",
    "housing_perc = housing_costs / monthly_take_home\n",
    "\n",
    "# Print the message to the user\n",
    "print (f\"Your monthly amount after housing, food and utility costs is\",\n",
    "       f\"£{remaining}.  Your housing costs represent {housing_perc*100:.2f}%\",\n",
    "       f\"of your monthly take home.\")"
   ]
  },
  {
   "cell_type": "markdown",
   "metadata": {},
   "source": [
    "**Task 2** Write code that asks the user to input a number, and the machine then prints out the times table (from 1 x up to and including 12 x the number) for whatever number is entered, using the message format \"*x* * *chosen_number* is *result*\" (e.g \"1 x 2 is 2\", \"2 x 2 is 4\" etc)"
   ]
  },
  {
   "cell_type": "code",
   "execution_count": null,
   "metadata": {},
   "outputs": [],
   "source": [
    "# Ask the user to input a number\n",
    "chosen_number = int(input(\"Please input a number : \"))\n",
    "\n",
    "# Print out the times table for that number (up to 12 x)\n",
    "for x in range(1,13):\n",
    "    print (f\"{x} * {chosen_number} is {x * chosen_number}\")"
   ]
  },
  {
   "cell_type": "markdown",
   "metadata": {},
   "source": [
    "**Task 3** Write code that asks the user for a number to start from, and which then prints a countdown from that number (printing the number each time) until it reaches 0 - at which point, rather than printing 0, it prints \"Thunderbirds are go!\""
   ]
  },
  {
   "cell_type": "code",
   "execution_count": null,
   "metadata": {},
   "outputs": [],
   "source": [
    "# Ask the user for a number from which to start the countdown\n",
    "starting_number = int(input(\"Start from what number?\"))\n",
    "\n",
    "# Print a countdown from that number.  Once 0 is reached, print the Thunderbirds\n",
    "# message rather than the number of 0\n",
    "for x in range(starting_number, -1, -1):\n",
    "    if x > 0:\n",
    "        print (x)\n",
    "    else:\n",
    "        print (\"Thunderbirds are go!\")\n"
   ]
  }
 ],
 "metadata": {
  "kernelspec": {
   "display_name": "Python 3",
   "language": "python",
   "name": "python3"
  },
  "language_info": {
   "codemirror_mode": {
    "name": "ipython",
    "version": 3
   },
   "file_extension": ".py",
   "mimetype": "text/x-python",
   "name": "python",
   "nbconvert_exporter": "python",
   "pygments_lexer": "ipython3",
   "version": "3.12.8"
  }
 },
 "nbformat": 4,
 "nbformat_minor": 2
}
